{
 "cells": [
  {
   "cell_type": "code",
   "execution_count": 2,
   "id": "cf95d173",
   "metadata": {},
   "outputs": [],
   "source": [
    "# import library\n",
    "\n",
    "import pandas as pd\n",
    "import numpy as np\n",
    "import matplotlib.pyplot as plt\n",
    "import statsmodels.api as sm"
   ]
  },
  {
   "cell_type": "code",
   "execution_count": 11,
   "id": "35fd8fa6",
   "metadata": {},
   "outputs": [],
   "source": [
    "data = {'date' : pd.to_datetime(['2023-01-01', '2023-01-02', '2023-01-03', '2023-01-04', '2023-01-05']),\n",
    "        'values' : [10, 12, 15, 13, 16]}"
   ]
  },
  {
   "cell_type": "code",
   "execution_count": 12,
   "id": "5d414bd1",
   "metadata": {},
   "outputs": [
    {
     "data": {
      "text/plain": [
       "{'date': DatetimeIndex(['2023-01-01', '2023-01-02', '2023-01-03', '2023-01-04',\n",
       "                '2023-01-05'],\n",
       "               dtype='datetime64[ns]', freq=None),\n",
       " 'values': [10, 12, 15, 13, 16]}"
      ]
     },
     "execution_count": 12,
     "metadata": {},
     "output_type": "execute_result"
    }
   ],
   "source": [
    "data"
   ]
  },
  {
   "cell_type": "code",
   "execution_count": 13,
   "id": "49be8a98",
   "metadata": {},
   "outputs": [],
   "source": [
    "df=pd.DataFrame(data)\n",
    "df=df.set_index('date')\n"
   ]
  },
  {
   "cell_type": "code",
   "execution_count": 14,
   "id": "67a08b0b",
   "metadata": {},
   "outputs": [
    {
     "data": {
      "text/html": [
       "<div>\n",
       "<style scoped>\n",
       "    .dataframe tbody tr th:only-of-type {\n",
       "        vertical-align: middle;\n",
       "    }\n",
       "\n",
       "    .dataframe tbody tr th {\n",
       "        vertical-align: top;\n",
       "    }\n",
       "\n",
       "    .dataframe thead th {\n",
       "        text-align: right;\n",
       "    }\n",
       "</style>\n",
       "<table border=\"1\" class=\"dataframe\">\n",
       "  <thead>\n",
       "    <tr style=\"text-align: right;\">\n",
       "      <th></th>\n",
       "      <th>values</th>\n",
       "    </tr>\n",
       "    <tr>\n",
       "      <th>date</th>\n",
       "      <th></th>\n",
       "    </tr>\n",
       "  </thead>\n",
       "  <tbody>\n",
       "    <tr>\n",
       "      <th>2023-01-01</th>\n",
       "      <td>10</td>\n",
       "    </tr>\n",
       "    <tr>\n",
       "      <th>2023-01-02</th>\n",
       "      <td>12</td>\n",
       "    </tr>\n",
       "    <tr>\n",
       "      <th>2023-01-03</th>\n",
       "      <td>15</td>\n",
       "    </tr>\n",
       "    <tr>\n",
       "      <th>2023-01-04</th>\n",
       "      <td>13</td>\n",
       "    </tr>\n",
       "    <tr>\n",
       "      <th>2023-01-05</th>\n",
       "      <td>16</td>\n",
       "    </tr>\n",
       "  </tbody>\n",
       "</table>\n",
       "</div>"
      ],
      "text/plain": [
       "            values\n",
       "date              \n",
       "2023-01-01      10\n",
       "2023-01-02      12\n",
       "2023-01-03      15\n",
       "2023-01-04      13\n",
       "2023-01-05      16"
      ]
     },
     "execution_count": 14,
     "metadata": {},
     "output_type": "execute_result"
    }
   ],
   "source": [
    "df"
   ]
  },
  {
   "cell_type": "code",
   "execution_count": 20,
   "id": "e3a5f68a",
   "metadata": {},
   "outputs": [
    {
     "name": "stderr",
     "output_type": "stream",
     "text": [
      "c:\\Users\\Vivek\\anaconda3\\Lib\\site-packages\\statsmodels\\tsa\\base\\tsa_model.py:473: ValueWarning: No frequency information was provided, so inferred frequency D will be used.\n",
      "  self._init_dates(dates, freq)\n",
      "c:\\Users\\Vivek\\anaconda3\\Lib\\site-packages\\statsmodels\\tsa\\base\\tsa_model.py:473: ValueWarning: No frequency information was provided, so inferred frequency D will be used.\n",
      "  self._init_dates(dates, freq)\n",
      "c:\\Users\\Vivek\\anaconda3\\Lib\\site-packages\\statsmodels\\tsa\\base\\tsa_model.py:473: ValueWarning: No frequency information was provided, so inferred frequency D will be used.\n",
      "  self._init_dates(dates, freq)\n",
      "c:\\Users\\Vivek\\anaconda3\\Lib\\site-packages\\statsmodels\\tsa\\statespace\\sarimax.py:966: UserWarning: Non-stationary starting autoregressive parameters found. Using zeros as starting parameters.\n",
      "  warn('Non-stationary starting autoregressive parameters'\n"
     ]
    }
   ],
   "source": [
    "#fit an ARIMA model \n",
    "model=sm.tsa.arima.ARIMA(df['values'],order=(1,1,1))\n",
    "results=model.fit()"
   ]
  },
  {
   "cell_type": "code",
   "execution_count": 21,
   "id": "d121403f",
   "metadata": {},
   "outputs": [
    {
     "name": "stderr",
     "output_type": "stream",
     "text": [
      "c:\\Users\\Vivek\\anaconda3\\Lib\\site-packages\\statsmodels\\tsa\\statespace\\sarimax.py:966: UserWarning: Non-stationary starting autoregressive parameters found. Using zeros as starting parameters.\n",
      "  warn('Non-stationary starting autoregressive parameters'\n"
     ]
    }
   ],
   "source": [
    "results=model.fit()"
   ]
  },
  {
   "cell_type": "code",
   "execution_count": 22,
   "id": "17d10eb6",
   "metadata": {},
   "outputs": [
    {
     "name": "stdout",
     "output_type": "stream",
     "text": [
      "                               SARIMAX Results                                \n",
      "==============================================================================\n",
      "Dep. Variable:                 values   No. Observations:                    5\n",
      "Model:                 ARIMA(1, 1, 1)   Log Likelihood                  -9.260\n",
      "Date:                Thu, 19 Jun 2025   AIC                             24.520\n",
      "Time:                        08:13:04   BIC                             22.679\n",
      "Sample:                    01-01-2023   HQIC                            20.480\n",
      "                         - 01-05-2023                                         \n",
      "Covariance Type:                  opg                                         \n",
      "==============================================================================\n",
      "                 coef    std err          z      P>|z|      [0.025      0.975]\n",
      "------------------------------------------------------------------------------\n",
      "ar.L1         -0.4480      4.674     -0.096      0.924      -9.609       8.713\n",
      "ma.L1          0.1561      6.253      0.025      0.980     -12.099      12.411\n",
      "sigma2         5.8482     21.348      0.274      0.784     -35.993      47.690\n",
      "===================================================================================\n",
      "Ljung-Box (L1) (Q):                   2.48   Jarque-Bera (JB):                 0.47\n",
      "Prob(Q):                              0.12   Prob(JB):                         0.79\n",
      "Heteroskedasticity (H):                nan   Skew:                            -0.71\n",
      "Prob(H) (two-sided):                   nan   Kurtosis:                         2.09\n",
      "===================================================================================\n",
      "\n",
      "Warnings:\n",
      "[1] Covariance matrix calculated using the outer product of gradients (complex-step).\n"
     ]
    },
    {
     "name": "stderr",
     "output_type": "stream",
     "text": [
      "c:\\Users\\Vivek\\anaconda3\\Lib\\site-packages\\statsmodels\\tsa\\statespace\\mlemodel.py:3160: UserWarning: Early subset of data for variable 0 has too few non-missing observations to calculate test statistic.\n",
      "  test_statistic, p_value = breakvar_heteroskedasticity_test(\n",
      "c:\\Users\\Vivek\\anaconda3\\Lib\\site-packages\\statsmodels\\tsa\\statespace\\mlemodel.py:3160: UserWarning: Later subset of data for variable 0 has too few non-missing observations to calculate test statistic.\n",
      "  test_statistic, p_value = breakvar_heteroskedasticity_test(\n"
     ]
    }
   ],
   "source": [
    "print(results.summary())"
   ]
  },
  {
   "cell_type": "code",
   "execution_count": 24,
   "id": "34c456ef",
   "metadata": {},
   "outputs": [
    {
     "name": "stdout",
     "output_type": "stream",
     "text": [
      "Forecast for the next step: 2023-01-06    15.014206\n",
      "Freq: D, dtype: float64\n"
     ]
    }
   ],
   "source": [
    "forecast = results.predict(start = len(df),end = len(df))\n",
    "print('Forecast for the next step:',forecast)"
   ]
  },
  {
   "cell_type": "code",
   "execution_count": 25,
   "id": "d378829b",
   "metadata": {},
   "outputs": [
    {
     "name": "stdout",
     "output_type": "stream",
     "text": [
      "\n",
      "Forecast for the next 5 years:\n"
     ]
    },
    {
     "data": {
      "text/plain": [
       "2023-01-06    15.014206\n",
       "2023-01-07    15.455836\n",
       "2023-01-08    15.257988\n",
       "2023-01-09    15.346623\n",
       "2023-01-10    15.306915\n",
       "                ...    \n",
       "2027-12-31    15.319200\n",
       "2028-01-01    15.319200\n",
       "2028-01-02    15.319200\n",
       "2028-01-03    15.319200\n",
       "2028-01-04    15.319200\n",
       "Freq: D, Name: predicted_mean, Length: 1825, dtype: float64"
      ]
     },
     "execution_count": 25,
     "metadata": {},
     "output_type": "execute_result"
    }
   ],
   "source": [
    "# for 365 days\n",
    "\n",
    "forecast_steps = 5*365\n",
    "forecast = results.predict(start = len(df), end = len(df) + forecast_steps-1)\n",
    "print(\"\\nForecast for the next 5 years:\")\n",
    "forecast"
   ]
  }
 ],
 "metadata": {
  "kernelspec": {
   "display_name": "base",
   "language": "python",
   "name": "python3"
  },
  "language_info": {
   "codemirror_mode": {
    "name": "ipython",
    "version": 3
   },
   "file_extension": ".py",
   "mimetype": "text/x-python",
   "name": "python",
   "nbconvert_exporter": "python",
   "pygments_lexer": "ipython3",
   "version": "3.12.7"
  }
 },
 "nbformat": 4,
 "nbformat_minor": 5
}
