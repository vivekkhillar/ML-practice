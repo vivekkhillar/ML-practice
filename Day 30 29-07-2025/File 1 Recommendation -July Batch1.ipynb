{
 "cells": [
  {
   "cell_type": "markdown",
   "id": "7cf94536-bede-4c45-9c7e-319b4cd2210c",
   "metadata": {},
   "source": [
    "# \n",
    "Agenda\n",
    "\n",
    "* **Overview of Recommendation Systems**\n",
    "  * **What are Recommendation Systems?**\n",
    "  * **Importance and Applications**\n",
    "* **Examples of Recommendation Systems**\n",
    "  * **Enhanced Book Discovery Recommendations**\n",
    "  * **Hyper-Personalized Media Recommendations**\n",
    "  * **Viewed Items Recommendations**\n",
    "  * **Enhanced Product Discovery Recommendations**\n",
    "* **Types of Recommendation Systems**\n",
    "  * **Collaborative Filtering**\n",
    "    - **Memory-Based Collaborative Filtering**\n",
    "      - User-Based Collaborative Filtering\n",
    "      - Item-Based Collaborative Filtering\n",
    "    - **Model-Based Collaborative Filtering**\n",
    "      - Matrix Factorization (MF)\n",
    "      - Singular Value Decomposition (SVD)\n",
    "  * **Content-Based Filtering**\n",
    "  * **Hybrid Filtering**"
   ]
  },
  {
   "cell_type": "markdown",
   "id": "ddc300c6-6010-4e9f-85b9-a4a6014be0a9",
   "metadata": {},
   "source": [
    "## User-Based Collaborative Filtering"
   ]
  },
  {
   "cell_type": "code",
   "execution_count": 1,
   "id": "479289dd-3c0c-406d-bae6-949477bf5b68",
   "metadata": {},
   "outputs": [],
   "source": [
    "import pandas as pd\n",
    "import numpy as np\n",
    "from sklearn.metrics.pairwise import cosine_similarity"
   ]
  },
  {
   "cell_type": "code",
   "execution_count": 4,
   "id": "89f3ba86-27c6-4d6b-ad1d-7578fd56ac06",
   "metadata": {},
   "outputs": [],
   "source": [
    "animes = pd.read_csv('anime.csv')\n",
    "rating = pd.read_csv('rating.csv')\n",
    "rating_matrix =  pd.read_csv('rating_matrix.csv', index_col = 0)"
   ]
  },
  {
   "cell_type": "code",
   "execution_count": 14,
   "id": "2ab9b306-6cfa-4692-8f68-979dfa39e4e3",
   "metadata": {},
   "outputs": [
    {
     "data": {
      "text/html": [
       "<div>\n",
       "<style scoped>\n",
       "    .dataframe tbody tr th:only-of-type {\n",
       "        vertical-align: middle;\n",
       "    }\n",
       "\n",
       "    .dataframe tbody tr th {\n",
       "        vertical-align: top;\n",
       "    }\n",
       "\n",
       "    .dataframe thead th {\n",
       "        text-align: right;\n",
       "    }\n",
       "</style>\n",
       "<table border=\"1\" class=\"dataframe\">\n",
       "  <thead>\n",
       "    <tr style=\"text-align: right;\">\n",
       "      <th></th>\n",
       "      <th>1</th>\n",
       "      <th>5</th>\n",
       "      <th>6</th>\n",
       "      <th>7</th>\n",
       "      <th>15</th>\n",
       "      <th>16</th>\n",
       "      <th>18</th>\n",
       "      <th>19</th>\n",
       "      <th>20</th>\n",
       "      <th>22</th>\n",
       "      <th>...</th>\n",
       "      <th>32281</th>\n",
       "      <th>32282</th>\n",
       "      <th>32379</th>\n",
       "      <th>32438</th>\n",
       "      <th>32542</th>\n",
       "      <th>32729</th>\n",
       "      <th>32828</th>\n",
       "      <th>32935</th>\n",
       "      <th>32998</th>\n",
       "      <th>34240</th>\n",
       "    </tr>\n",
       "    <tr>\n",
       "      <th>user_id</th>\n",
       "      <th></th>\n",
       "      <th></th>\n",
       "      <th></th>\n",
       "      <th></th>\n",
       "      <th></th>\n",
       "      <th></th>\n",
       "      <th></th>\n",
       "      <th></th>\n",
       "      <th></th>\n",
       "      <th></th>\n",
       "      <th></th>\n",
       "      <th></th>\n",
       "      <th></th>\n",
       "      <th></th>\n",
       "      <th></th>\n",
       "      <th></th>\n",
       "      <th></th>\n",
       "      <th></th>\n",
       "      <th></th>\n",
       "      <th></th>\n",
       "      <th></th>\n",
       "    </tr>\n",
       "  </thead>\n",
       "  <tbody>\n",
       "    <tr>\n",
       "      <th>226</th>\n",
       "      <td>8.0</td>\n",
       "      <td>0.0</td>\n",
       "      <td>8.0</td>\n",
       "      <td>0.0</td>\n",
       "      <td>0.0</td>\n",
       "      <td>0.0</td>\n",
       "      <td>0.0</td>\n",
       "      <td>0.0</td>\n",
       "      <td>7.0</td>\n",
       "      <td>0.0</td>\n",
       "      <td>...</td>\n",
       "      <td>0.0</td>\n",
       "      <td>0.0</td>\n",
       "      <td>0.0</td>\n",
       "      <td>0.0</td>\n",
       "      <td>8.0</td>\n",
       "      <td>0.0</td>\n",
       "      <td>0.0</td>\n",
       "      <td>0.0</td>\n",
       "      <td>0.0</td>\n",
       "      <td>0.0</td>\n",
       "    </tr>\n",
       "    <tr>\n",
       "      <th>271</th>\n",
       "      <td>0.0</td>\n",
       "      <td>0.0</td>\n",
       "      <td>0.0</td>\n",
       "      <td>0.0</td>\n",
       "      <td>0.0</td>\n",
       "      <td>0.0</td>\n",
       "      <td>0.0</td>\n",
       "      <td>0.0</td>\n",
       "      <td>1.0</td>\n",
       "      <td>0.0</td>\n",
       "      <td>...</td>\n",
       "      <td>10.0</td>\n",
       "      <td>0.0</td>\n",
       "      <td>0.0</td>\n",
       "      <td>4.0</td>\n",
       "      <td>0.0</td>\n",
       "      <td>7.0</td>\n",
       "      <td>9.0</td>\n",
       "      <td>0.0</td>\n",
       "      <td>0.0</td>\n",
       "      <td>10.0</td>\n",
       "    </tr>\n",
       "    <tr>\n",
       "      <th>294</th>\n",
       "      <td>7.0</td>\n",
       "      <td>7.0</td>\n",
       "      <td>0.0</td>\n",
       "      <td>0.0</td>\n",
       "      <td>0.0</td>\n",
       "      <td>0.0</td>\n",
       "      <td>0.0</td>\n",
       "      <td>0.0</td>\n",
       "      <td>10.0</td>\n",
       "      <td>0.0</td>\n",
       "      <td>...</td>\n",
       "      <td>0.0</td>\n",
       "      <td>0.0</td>\n",
       "      <td>0.0</td>\n",
       "      <td>0.0</td>\n",
       "      <td>0.0</td>\n",
       "      <td>0.0</td>\n",
       "      <td>0.0</td>\n",
       "      <td>0.0</td>\n",
       "      <td>0.0</td>\n",
       "      <td>0.0</td>\n",
       "    </tr>\n",
       "    <tr>\n",
       "      <th>392</th>\n",
       "      <td>7.0</td>\n",
       "      <td>0.0</td>\n",
       "      <td>7.0</td>\n",
       "      <td>0.0</td>\n",
       "      <td>0.0</td>\n",
       "      <td>0.0</td>\n",
       "      <td>7.0</td>\n",
       "      <td>0.0</td>\n",
       "      <td>7.0</td>\n",
       "      <td>0.0</td>\n",
       "      <td>...</td>\n",
       "      <td>0.0</td>\n",
       "      <td>8.0</td>\n",
       "      <td>6.0</td>\n",
       "      <td>4.0</td>\n",
       "      <td>0.0</td>\n",
       "      <td>0.0</td>\n",
       "      <td>0.0</td>\n",
       "      <td>8.0</td>\n",
       "      <td>0.0</td>\n",
       "      <td>0.0</td>\n",
       "    </tr>\n",
       "    <tr>\n",
       "      <th>446</th>\n",
       "      <td>9.0</td>\n",
       "      <td>8.0</td>\n",
       "      <td>9.0</td>\n",
       "      <td>0.0</td>\n",
       "      <td>0.0</td>\n",
       "      <td>0.0</td>\n",
       "      <td>0.0</td>\n",
       "      <td>10.0</td>\n",
       "      <td>0.0</td>\n",
       "      <td>0.0</td>\n",
       "      <td>...</td>\n",
       "      <td>0.0</td>\n",
       "      <td>8.0</td>\n",
       "      <td>0.0</td>\n",
       "      <td>5.0</td>\n",
       "      <td>0.0</td>\n",
       "      <td>7.0</td>\n",
       "      <td>0.0</td>\n",
       "      <td>0.0</td>\n",
       "      <td>8.0</td>\n",
       "      <td>9.0</td>\n",
       "    </tr>\n",
       "  </tbody>\n",
       "</table>\n",
       "<p>5 rows × 1462 columns</p>\n",
       "</div>"
      ],
      "text/plain": [
       "           1    5    6    7   15   16   18    19    20   22  ...  32281  \\\n",
       "user_id                                                      ...          \n",
       "226      8.0  0.0  8.0  0.0  0.0  0.0  0.0   0.0   7.0  0.0  ...    0.0   \n",
       "271      0.0  0.0  0.0  0.0  0.0  0.0  0.0   0.0   1.0  0.0  ...   10.0   \n",
       "294      7.0  7.0  0.0  0.0  0.0  0.0  0.0   0.0  10.0  0.0  ...    0.0   \n",
       "392      7.0  0.0  7.0  0.0  0.0  0.0  7.0   0.0   7.0  0.0  ...    0.0   \n",
       "446      9.0  8.0  9.0  0.0  0.0  0.0  0.0  10.0   0.0  0.0  ...    0.0   \n",
       "\n",
       "         32282  32379  32438  32542  32729  32828  32935  32998  34240  \n",
       "user_id                                                                 \n",
       "226        0.0    0.0    0.0    8.0    0.0    0.0    0.0    0.0    0.0  \n",
       "271        0.0    0.0    4.0    0.0    7.0    9.0    0.0    0.0   10.0  \n",
       "294        0.0    0.0    0.0    0.0    0.0    0.0    0.0    0.0    0.0  \n",
       "392        8.0    6.0    4.0    0.0    0.0    0.0    8.0    0.0    0.0  \n",
       "446        8.0    0.0    5.0    0.0    7.0    0.0    0.0    8.0    9.0  \n",
       "\n",
       "[5 rows x 1462 columns]"
      ]
     },
     "execution_count": 14,
     "metadata": {},
     "output_type": "execute_result"
    }
   ],
   "source": [
    "rating_matrix.head()"
   ]
  },
  {
   "cell_type": "code",
   "execution_count": 12,
   "id": "09dbc769-532a-4bfd-b187-327fb0f6eb44",
   "metadata": {
    "scrolled": true
   },
   "outputs": [
    {
     "data": {
      "text/plain": [
       "73515"
      ]
     },
     "execution_count": 12,
     "metadata": {},
     "output_type": "execute_result"
    }
   ],
   "source": [
    "rating.user_id.nunique()"
   ]
  },
  {
   "cell_type": "code",
   "execution_count": 13,
   "id": "57412e38-6ec2-4740-8d73-95e998bd25ca",
   "metadata": {},
   "outputs": [
    {
     "data": {
      "text/plain": [
       "903793410"
      ]
     },
     "execution_count": 13,
     "metadata": {},
     "output_type": "execute_result"
    }
   ],
   "source": [
    "73515 * 12294  "
   ]
  },
  {
   "cell_type": "code",
   "execution_count": 47,
   "id": "72ba50ee-e96d-430a-8e51-30fe05475d9d",
   "metadata": {},
   "outputs": [],
   "source": [
    "## Find Similar users\n",
    "\n",
    "user_id =  294\n",
    "\n",
    "user =  rating_matrix[rating_matrix.index == user_id]\n",
    "other_users =  rating_matrix[rating_matrix.index != user_id]\n",
    "\n",
    "similarities = cosine_similarity(user, other_users)[0].tolist()\n",
    "\n",
    "indices =  other_users.index.tolist()\n",
    "\n",
    "index_similarity =  dict(zip(indices, similarities))\n",
    "\n",
    "index_similarity_sorted =  list(sorted(index_similarity.items(), key = lambda item : item[1], \n",
    "                                       reverse = True))\n",
    "\n",
    "top_5_users_similarities  =  index_similarity_sorted[:5]\n",
    "\n",
    "sim_users =  [ u[0] for u in top_5_users_similarities ]"
   ]
  },
  {
   "cell_type": "code",
   "execution_count": 48,
   "id": "604eaf18-f265-43de-af9c-939f9c1e69e3",
   "metadata": {},
   "outputs": [
    {
     "data": {
      "text/plain": [
       "[25760, 57620, 59643, 51270, 8115]"
      ]
     },
     "execution_count": 48,
     "metadata": {},
     "output_type": "execute_result"
    }
   ],
   "source": [
    "sim_users"
   ]
  },
  {
   "cell_type": "code",
   "execution_count": null,
   "id": "cd29f5e7-c58f-4b60-b2e4-b017eb5aaeb5",
   "metadata": {},
   "outputs": [],
   "source": []
  }
 ],
 "metadata": {
  "kernelspec": {
   "display_name": "Python 3 (ipykernel)",
   "language": "python",
   "name": "python3"
  },
  "language_info": {
   "codemirror_mode": {
    "name": "ipython",
    "version": 3
   },
   "file_extension": ".py",
   "mimetype": "text/x-python",
   "name": "python",
   "nbconvert_exporter": "python",
   "pygments_lexer": "ipython3",
   "version": "3.12.4"
  }
 },
 "nbformat": 4,
 "nbformat_minor": 5
}
