{
 "cells": [
  {
   "cell_type": "markdown",
   "id": "6316e6f3",
   "metadata": {},
   "source": [
    "## Polynomial Regresssion"
   ]
  },
  {
   "cell_type": "code",
   "execution_count": null,
   "id": "6c8ccc69",
   "metadata": {},
   "outputs": [],
   "source": [
    "## polynomial regression subset of Linear regression which includes polynomial terms\n",
    "\n",
    "\n",
    "import pandas as pd"
   ]
  }
 ],
 "metadata": {
  "kernelspec": {
   "display_name": "base",
   "language": "python",
   "name": "python3"
  },
  "language_info": {
   "codemirror_mode": {
    "name": "ipython",
    "version": 3
   },
   "file_extension": ".py",
   "mimetype": "text/x-python",
   "name": "python",
   "nbconvert_exporter": "python",
   "pygments_lexer": "ipython3",
   "version": "3.12.7"
  }
 },
 "nbformat": 4,
 "nbformat_minor": 5
}
