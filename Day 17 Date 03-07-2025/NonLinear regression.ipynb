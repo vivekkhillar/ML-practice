{
 "cells": [
  {
   "cell_type": "markdown",
   "id": "6316e6f3",
   "metadata": {},
   "source": [
    "## Polynomial Regresssion"
   ]
  },
  {
   "cell_type": "code",
   "execution_count": null,
   "id": "6c8ccc69",
   "metadata": {},
   "outputs": [],
   "source": []
  }
 ],
 "metadata": {
  "kernelspec": {
   "display_name": "base",
   "language": "python",
   "name": "python3"
  },
  "language_info": {
   "name": "python",
   "version": "3.12.7"
  }
 },
 "nbformat": 4,
 "nbformat_minor": 5
}
