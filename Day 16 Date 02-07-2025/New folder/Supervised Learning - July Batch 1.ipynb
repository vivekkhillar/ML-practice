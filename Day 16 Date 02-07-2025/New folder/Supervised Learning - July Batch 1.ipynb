{
 "cells": [
  {
   "cell_type": "markdown",
   "id": "a6859c9a-afb9-40df-8a3d-bd3fd134e8bf",
   "metadata": {},
   "source": [
    "# Agenda\n",
    "- Introduction to Supervised Learning\n",
    "- Supervised Learning Categories\n",
    "- Regression\n",
    "- Classification\n",
    "- Applications of Supervised Learning\n",
    "- Supervised Learning Algorithms"
   ]
  },
  {
   "cell_type": "markdown",
   "id": "ac7126c7-3776-4fee-bdd6-45751043845c",
   "metadata": {},
   "source": [
    "## Introduction to Supervised Learning\n",
    "\n",
    "Supervised learning is a type of ML where the algorithm learns from labelled data, consisting input-outpur pairs . In Supervised learning we train the algorithm on a dataset consistng input features and corresponding output labels. The goal is to learn the mapping or relationship between the input features and output labels, which helps in making predictions on unseen , new data\n",
    "\n",
    "## Supervised Learning Categories \n",
    "There are two major categories of sypervised learning based on the nature of the target variable\n",
    "\n",
    "![link text](https://labcontent.simplicdn.net/data-content/content-assets/Data_and_AI/ML/updated/Lesson_03/Image_1.png)\n",
    "\n",
    "\n",
    "- Regression\n",
    "  - When the target variable is continuous value, the prdediction task is called as regression. or example predicting the temperature from a set input values like wind, humidity etc.\n",
    "- Classification\n",
    "  - When the target variable is caegorical value, the prdediction task is called as classification. for example predicting the weather (hot/cold) from a set input values like wind, humidity etc.\n",
    " \n",
    "![link text](https://labcontent.simplicdn.net/data-content/content-assets/Data_and_AI/ML/updated/Lesson_03/Image_2.png)"
   ]
  },
  {
   "cell_type": "markdown",
   "id": "3f4f608a-638e-4907-b37a-a792cc84a89e",
   "metadata": {},
   "source": [
    "## Applications of Supervised Learning\n",
    "- HR Operations - Resume Shortlisting \n",
    "- Finance - Loan Risk Assesment\n",
    "- EMails -  Spam Filtering\n",
    "- Manufacturing -  Quality Inspections\n",
    "- Maritime Industry -  tide predictions\n",
    "- Fraud Detection - MOniot and report fraud transactions\n",
    "\n",
    "\n",
    "Supervised Learning Algorithms\n",
    "\n",
    "An Algorithm refers to an approach used to train a model on data. Some of the popularly know algorithms are\n",
    "- Linear Regression - Predictging House Price\n",
    "- Logistic Regression - Predicting binary class\n",
    "- Naive Bayes- Email Spam Detection\n",
    "- KNN(K Nearest Neighbors) - Heath Care Domain\n",
    "- Decision Tree - Decision based on ruled\n",
    "- Support Vector Machine (SVM)-Socaial media Mnoitering\n",
    "- RandomForest"
   ]
  }
 ],
 "metadata": {
  "kernelspec": {
   "display_name": "Python 3 (ipykernel)",
   "language": "python",
   "name": "python3"
  },
  "language_info": {
   "codemirror_mode": {
    "name": "ipython",
    "version": 3
   },
   "file_extension": ".py",
   "mimetype": "text/x-python",
   "name": "python",
   "nbconvert_exporter": "python",
   "pygments_lexer": "ipython3",
   "version": "3.12.4"
  }
 },
 "nbformat": 4,
 "nbformat_minor": 5
}
