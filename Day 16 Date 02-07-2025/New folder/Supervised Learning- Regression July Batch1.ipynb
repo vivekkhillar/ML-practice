{
 "cells": [
  {
   "cell_type": "markdown",
   "id": "35413e37-bc0a-476d-ba79-8de35edcaf93",
   "metadata": {},
   "source": [
    "# Agenda\n",
    "- What is Regression\n",
    "- Types of Regression\n",
    "  - Linear Regression\n",
    "    - Simple Linear Regression\n",
    "      - Train Test Split\n",
    "    - Multiple Linear Regression\n",
    "      - Overfitting and Underfitting\n",
    "      - Bias and Variance Trade off\n",
    "  - Non Linear Regression\n",
    "    - Polynomial Regression\n",
    "- Model Evaulation and Validation\n",
    "  - Cross Validation Techniques\n",
    "  - Performance Metrics in Regression\n",
    "    - Mean Square Error (MSE)\n",
    "    - Mean Absolute Error (MAE)\n",
    "    - Root Mean Squared Error (RMSE)\n",
    "    - R- Squared\n",
    "- Regularization Techinques\n",
    "  - Lasso Regression\n",
    "  - Ridge Regressio\n",
    "\n",
    "- Hyperparameter Tuning\n",
    "  - GridSearch\n",
    "  - RandomSearch\n",
    "- Pipelines\n",
    "  - scikitlearn pipelines"
   ]
  },
  {
   "cell_type": "markdown",
   "id": "7e9a8343-d8a6-407a-9a04-af578f11c3b5",
   "metadata": {},
   "source": [
    "## What is Regression\n",
    "Regression is a type of Supevised Learning and Statistical Method used to model and analyze the relationship between dependent variable(target/ output) and one or more independent variable( features/input) . The goal of regression to predict a continuous value for a given set of Inputs\n",
    "\n",
    "\n",
    "## Types of Regression\n",
    "There are two types for Linear Regression\n",
    "- Simple Linear Regression\n",
    "- Multiple Linear Regression\n",
    "\n",
    "### Simple Linear Regression\n",
    "Simple Linear Regression models the relationship between one indepenedent Variable and dependent variable as a straight line: which can be represented as \n",
    "$$ y = mx + c $$"
   ]
  },
  {
   "cell_type": "code",
   "execution_count": null,
   "id": "0eb12d29-1dba-4b30-8ecd-f674ea0847cd",
   "metadata": {},
   "outputs": [],
   "source": []
  }
 ],
 "metadata": {
  "kernelspec": {
   "display_name": "Python 3 (ipykernel)",
   "language": "python",
   "name": "python3"
  },
  "language_info": {
   "codemirror_mode": {
    "name": "ipython",
    "version": 3
   },
   "file_extension": ".py",
   "mimetype": "text/x-python",
   "name": "python",
   "nbconvert_exporter": "python",
   "pygments_lexer": "ipython3",
   "version": "3.12.4"
  }
 },
 "nbformat": 4,
 "nbformat_minor": 5
}
