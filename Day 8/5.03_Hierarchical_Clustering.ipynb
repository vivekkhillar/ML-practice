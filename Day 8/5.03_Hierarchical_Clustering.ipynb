{
 "cells": [
  {
   "cell_type": "markdown",
   "metadata": {
    "id": "zeD8WGmObs_I"
   },
   "source": [
    "# **Hierarchical Clustering**"
   ]
  },
  {
   "cell_type": "markdown",
   "metadata": {
    "id": "H9j_qmmEbzuy"
   },
   "source": [
    "## **Agenda**"
   ]
  },
  {
   "cell_type": "markdown",
   "metadata": {
    "id": "vOoy8vQqb-f9"
   },
   "source": [
    "In this session, we will cover the following concepts with the help of a business use case:\n",
    "* Hierarchical Clustering\n",
    "* Types of Hierarchical Clustering\n",
    "* Evaluate similarities between clusters"
   ]
  },
  {
   "cell_type": "markdown",
   "metadata": {
    "id": "lhaDIF7ATDV5"
   },
   "source": [
    "## <b> Hierarchical Clustering </b>\n",
    "\n",
    "\n",
    "Hierarchical clustering is where we build a cluster tree (dendrogram) to represent data, where each group (node) is linked to two or more successor groups. \n",
    "* The groups are nested and organized as a tree, which ideally ends up as a meaningful classification scheme.\n",
    "* Each node in the cluster tree contains a group of similar data; nodes are placed on the graph next to other similar nodes. \n",
    "* Clusters at one level are joined with clusters in the next level up, using a degree of similarity.\n",
    "* The process carries on until all nodes are in the tree, which gives a visual snapshot of the data contained in the whole set. \n",
    "* The total number of clusters is not predetermined before you start the tree creation."
   ]
  },
  {
   "cell_type": "markdown",
   "metadata": {
    "id": "GUkITqtYUZhC"
   },
   "source": [
    "![clustergram](https://labcontent.simplicdn.net/data-content/content-assets/Data_and_AI/Applied_Machine_Learning/Images/0.9_Unsupervised_Learning/Trainer_PPT_and_IPYNB/0.3_Hierarchical_Clustering/clustergram.png)"
   ]
  },
  {
   "cell_type": "markdown",
   "metadata": {
    "id": "FHKNmIJLUvW-"
   },
   "source": [
    "## <b> Implementing Hierarchical Clustering </b>\n",
    "\n",
    "\n",
    "There are two major ways in which hierarchical clustering can be carried out:\n",
    "\n",
    "1. Agglomerative or Bottom-Up Clustering\n",
    "2. Divisive or Top-Down Clustering"
   ]
  },
  {
   "cell_type": "markdown",
   "metadata": {
    "id": "xhyhEjwkH8pl"
   },
   "source": [
    "### <b> Agglomerative (Bottom-Up) Clustering </b>\n",
    "\n",
    "1. Start with each example in its own singleton cluster\n",
    "2. At each time-step, greedily merge two most similar clusters\n",
    "3. Stop when there is a single cluster of all examples, else go to two"
   ]
  },
  {
   "cell_type": "markdown",
   "metadata": {
    "id": "qP1VqVoCHlTr"
   },
   "source": [
    "### <b> Divisive (Top-Down) Clustering </b>\n",
    "\n",
    "\n",
    "1. Start with all examples in the same cluster\n",
    "2. At each time-step, remove the “outsiders” from the least cohesive cluster\n",
    "3. Stop when each example is in its own singleton cluster, else go to two"
   ]
  },
  {
   "cell_type": "markdown",
   "metadata": {
    "id": "lgvSkwfOHvhB"
   },
   "source": [
    "### <b> Which One to Use? </b>\n",
    "\n",
    "* Agglomerative Clustering is simpler than the divisive clustering to implement because for the latter, we need a second, flat clustering algorithm as a `subroutine`. \n",
    "* However, top-down routine has the advantage of being more efficient if we do not generate a complete hierarchy all the way down to individual document leaves. \n",
    "* For a fixed number of top levels, using an efficient flat algorithm like  $K$-means. Top-down algorithms are linear in the number of documents and clusters.\n",
    "* There is also evidence that divisive algorithms produce more accurate hierarchies than bottom-up algorithms. In some circumstances according to the [Stanford University Review](https://nlp.stanford.edu/IR-book/html/htmledition/references-and-further-reading-17.html#sec:hclstfurther). "
   ]
  },
  {
   "cell_type": "markdown",
   "metadata": {
    "id": "fK1lfrXfIOvs"
   },
   "source": [
    "### <b> Deciding (Dis)similarity between Clusters </b>\n",
    "\n",
    "In both techniques, we discussed finding the similarity or dissmilarity between the two clusters. The question is, \"How to measure them?\"\n",
    "\n",
    "\n",
    "Before any clustering is performed, it is required that you determine the **proximity matrix containing the distance between each point using a distance function**. \n",
    "Then, the matrix is updated to display the distance between each cluster. \n",
    "The following three methods differ in how the distance between each cluster is measured."
   ]
  },
  {
   "cell_type": "markdown",
   "metadata": {
    "id": "P9wdKENK5f3q"
   },
   "source": [
    "### <b> Dendrograms </b>\n",
    "\n",
    "We can use a dendrogram to visualize the history of groupings and figure out the optimal number of clusters.\n",
    " - Determine the largest vertical distance that doesn’t intersect any of the other clusters\n",
    " - Draw a horizontal line at both extremities\n",
    " - The optimal number of clusters is equal to the number of vertical lines going through the horizontal line\n",
    "\n",
    "For example, in the below case, best choice for no. of clusters will be 4."
   ]
  },
  {
   "cell_type": "markdown",
   "metadata": {
    "id": "JiwGcdSt6k2K"
   },
   "source": [
    "![image_1](https://labcontent.simplicdn.net/data-content/content-assets/Data_and_AI/Applied_Machine_Learning/Images/0.9_Unsupervised_Learning/Trainer_PPT_and_IPYNB/0.3_Hierarchical_Clustering/image_1.JPG)\n"
   ]
  },
  {
   "cell_type": "markdown",
   "metadata": {
    "id": "sQINoDiQ58q9"
   },
   "source": [
    "## <b> Linkage Criteria </b>"
   ]
  },
  {
   "cell_type": "markdown",
   "metadata": {
    "id": "g-oDXXnfIUVA"
   },
   "source": [
    "### <b> Single Linkage </b>\n",
    "\n",
    "In single linkage hierarchical clustering, the distance between two clusters is defined as the shortest distance between two points in each cluster. For example, the distance between clusters “r” and “s” to the left is equal to the length of the arrow between their two closest points."
   ]
  },
  {
   "cell_type": "markdown",
   "metadata": {
    "id": "j-xJqtKR1Eod"
   },
   "source": [
    "![image05](https://labcontent.simplicdn.net/data-content/content-assets/Data_and_AI/Applied_Machine_Learning/Images/0.9_Unsupervised_Learning/Trainer_PPT_and_IPYNB/0.3_Hierarchical_Clustering/image05.png)\n"
   ]
  },
  {
   "cell_type": "markdown",
   "metadata": {
    "id": "-KTiDcyPIf42"
   },
   "source": [
    "### <b> Complete Linkage </b>\n",
    "\n",
    "In complete linkage hierarchical clustering, the distance between two clusters is defined as the longest distance between two points in each cluster. For example, the distance between clusters “r” and “s” to the left is equal to the length of the arrow between their two furthest points."
   ]
  },
  {
   "cell_type": "markdown",
   "metadata": {
    "id": "_Fv-hxYK1ImV"
   },
   "source": [
    "![image06](https://labcontent.simplicdn.net/data-content/content-assets/Data_and_AI/Applied_Machine_Learning/Images/0.9_Unsupervised_Learning/Trainer_PPT_and_IPYNB/0.3_Hierarchical_Clustering/image06.png)\n"
   ]
  },
  {
   "cell_type": "markdown",
   "metadata": {
    "id": "onsIeIGlInG7"
   },
   "source": [
    "### <b> Average Linkage </b>\n",
    "\n",
    "In average linkage hierarchical clustering, the distance between two clusters is defined as the average distance between each point in one cluster to every point in the other cluster. For example, the distance between clusters “r” and “s” to the left is equal to the average length of each arrow between connecting the points of one cluster to the other.\n"
   ]
  },
  {
   "cell_type": "markdown",
   "metadata": {
    "id": "bFEz3ZyO1Ki9"
   },
   "source": [
    "![image07](https://labcontent.simplicdn.net/data-content/content-assets/Data_and_AI/Applied_Machine_Learning/Images/0.9_Unsupervised_Learning/Trainer_PPT_and_IPYNB/0.3_Hierarchical_Clustering/image07.png)"
   ]
  },
  {
   "cell_type": "markdown",
   "metadata": {
    "id": "g7ESvhz99Fq2"
   },
   "source": [
    "### <b> Ward Linkage </b>\n",
    "In ward linkage hierarchical clustering, the distance between clusters is the sum of squared differences within all clusters.\n"
   ]
  },
  {
   "cell_type": "markdown",
   "metadata": {
    "id": "i7TVoTneJ78u"
   },
   "source": [
    "### <b> Single vs. Complete vs. Average Linkage: </b>\n",
    "\n",
    "* Single\n",
    "linkage sometimes produces chaining amongst the clusters. This means that several clusters may be joined together simply because one of their\n",
    "cases is within close proximity of the case from a separate\n",
    "cluster. This problem is specific to single linkage due to\n",
    "the fact that the smallest distance between pairs is the\n",
    "only value taken into consideration.\n",
    "* In\n",
    "complete linkage, outlying cases prevent close clusters\n",
    "to merge together because the measure of the furthest\n",
    "neighbor exacerbates the effects of outlying data.\n",
    "* Average linkage is supposed to represent a\n",
    "natural compromise between the linkage measures to\n",
    "provide a more accurate evaluation of the distance\n",
    "between the clusters. "
   ]
  },
  {
   "cell_type": "markdown",
   "metadata": {
    "id": "pjMZKbm38Y8g"
   },
   "source": [
    "## <b> Distance Metric </b>\n",
    "The method you use to calculate the distance between data points will affect the end result.\n",
    "### <b>Euclidean Distance </b>\n",
    "The shortest distance between two points. <br> \n",
    "For example, \n",
    "if x=(a,b) and y=(c,d), <br>\n",
    "the Euclidean distance between x and y is √(a−c)²+(b−d)²\n",
    "### <b> Manhattan Distance </b>\n",
    "Imagine you were in the downtown center of a big city and you wanted to get from point A to point B. You wouldn’t be able to cut across buildings, rather you’d have to make your way by walking along the various streets. <br>\n",
    "For example, if x=(a,b) and y=(c,d), <br> \n",
    "the Manhattan distance between x and y is |a−c|+|b−d|"
   ]
  },
  {
   "cell_type": "markdown",
   "metadata": {
    "id": "bE7ySio-KKIs"
   },
   "source": [
    "## <b> Shortcomings </b>\n",
    "\n",
    "One of the biggest drawbacks of hierarchical clustering is it is extremely calculation heavy. Therefore, they are not scalable. That also means that they are not very useful for larger datasets."
   ]
  },
  {
   "cell_type": "markdown",
   "metadata": {
    "id": "sSKFQ8vPz96R"
   },
   "source": [
    "`Scipy` has a really convenient api for carrying out hierarchical clustering. Let's see how it works. We will start with necessary imports:"
   ]
  },
  {
   "cell_type": "markdown",
   "metadata": {
    "id": "zVrlcRzMZGjf"
   },
   "source": [
    "### Import Libraries"
   ]
  },
  {
   "cell_type": "code",
   "execution_count": 1,
   "metadata": {
    "id": "2dxRQp79cxa0"
   },
   "outputs": [],
   "source": [
    "import pandas as pd, numpy as np\n",
    "from sklearn.cluster import KMeans\n",
    "from sklearn.datasets import load_iris"
   ]
  },
  {
   "cell_type": "markdown",
   "metadata": {
    "id": "SyhPlzM_ZGjg"
   },
   "source": [
    "In the above code, we are using the sklearn library, which contains a lot of tools for machine learning and statistical modeling, including classification, regression, clustering, and dimensionality reduction.\n"
   ]
  },
  {
   "cell_type": "code",
   "execution_count": 2,
   "metadata": {
    "id": "UDOH73u_c0KI"
   },
   "outputs": [],
   "source": [
    "iris = load_iris()"
   ]
  },
  {
   "cell_type": "markdown",
   "metadata": {
    "id": "9GV9uelYZGjh"
   },
   "source": [
    "Load_iris is a function from sklearn that loads and returns the iris dataset. The libraries used above already contains it. Just by loading the library, a data frame named \"iris\" will be made available and can be used straight away."
   ]
  },
  {
   "cell_type": "code",
   "execution_count": 3,
   "metadata": {
    "id": "ORrHsxS3c810"
   },
   "outputs": [],
   "source": [
    "X = iris.data\n",
    "y = iris.target"
   ]
  },
  {
   "cell_type": "code",
   "execution_count": 4,
   "metadata": {
    "id": "y98KjZ5RcgDR"
   },
   "outputs": [],
   "source": [
    "#Import dendrogram and linkage module from scipy library\n",
    "from scipy.cluster.hierarchy import dendrogram, linkage"
   ]
  },
  {
   "cell_type": "code",
   "execution_count": 5,
   "metadata": {
    "id": "TMm-LBwscgrM"
   },
   "outputs": [],
   "source": [
    "#Generate the linkage matrix\n",
    "Z = linkage(X, 'average')"
   ]
  },
  {
   "cell_type": "code",
   "execution_count": 6,
   "metadata": {},
   "outputs": [
    {
     "data": {
      "text/plain": [
       "array([[1.01000000e+02, 1.42000000e+02, 0.00000000e+00, 2.00000000e+00],\n",
       "       [7.00000000e+00, 3.90000000e+01, 1.00000000e-01, 2.00000000e+00],\n",
       "       [0.00000000e+00, 1.70000000e+01, 1.00000000e-01, 2.00000000e+00],\n",
       "       [9.00000000e+00, 3.40000000e+01, 1.00000000e-01, 2.00000000e+00],\n",
       "       [1.28000000e+02, 1.32000000e+02, 1.00000000e-01, 2.00000000e+00],\n",
       "       [1.00000000e+01, 4.80000000e+01, 1.00000000e-01, 2.00000000e+00],\n",
       "       [4.00000000e+00, 3.70000000e+01, 1.41421356e-01, 2.00000000e+00],\n",
       "       [1.90000000e+01, 2.10000000e+01, 1.41421356e-01, 2.00000000e+00],\n",
       "       [2.90000000e+01, 3.00000000e+01, 1.41421356e-01, 2.00000000e+00],\n",
       "       [5.70000000e+01, 9.30000000e+01, 1.41421356e-01, 2.00000000e+00],\n",
       "       [8.00000000e+01, 8.10000000e+01, 1.41421356e-01, 2.00000000e+00],\n",
       "       [1.16000000e+02, 1.37000000e+02, 1.41421356e-01, 2.00000000e+00],\n",
       "       [8.00000000e+00, 3.80000000e+01, 1.41421356e-01, 2.00000000e+00],\n",
       "       [3.00000000e+00, 4.70000000e+01, 1.41421356e-01, 2.00000000e+00],\n",
       "       [2.70000000e+01, 2.80000000e+01, 1.41421356e-01, 2.00000000e+00],\n",
       "       [8.20000000e+01, 9.20000000e+01, 1.41421356e-01, 2.00000000e+00],\n",
       "       [9.50000000e+01, 9.60000000e+01, 1.41421356e-01, 2.00000000e+00],\n",
       "       [1.27000000e+02, 1.38000000e+02, 1.41421356e-01, 2.00000000e+00],\n",
       "       [1.00000000e+00, 4.50000000e+01, 1.41421356e-01, 2.00000000e+00],\n",
       "       [6.30000000e+01, 9.10000000e+01, 1.41421356e-01, 2.00000000e+00],\n",
       "       [6.50000000e+01, 7.50000000e+01, 1.41421356e-01, 2.00000000e+00],\n",
       "       [4.00000000e+01, 1.52000000e+02, 1.57313218e-01, 3.00000000e+00],\n",
       "       [4.90000000e+01, 1.51000000e+02, 1.57313218e-01, 3.00000000e+00],\n",
       "       [1.20000000e+01, 1.68000000e+02, 1.70710678e-01, 3.00000000e+00],\n",
       "       [1.23000000e+02, 1.26000000e+02, 1.73205081e-01, 2.00000000e+00],\n",
       "       [1.12000000e+02, 1.39000000e+02, 1.73205081e-01, 2.00000000e+00],\n",
       "       [9.40000000e+01, 9.90000000e+01, 1.73205081e-01, 2.00000000e+00],\n",
       "       [8.80000000e+01, 1.66000000e+02, 1.73205081e-01, 3.00000000e+00],\n",
       "       [2.50000000e+01, 1.53000000e+02, 1.86602540e-01, 3.00000000e+00],\n",
       "       [4.60000000e+01, 1.57000000e+02, 1.93185165e-01, 3.00000000e+00],\n",
       "       [2.00000000e+00, 1.63000000e+02, 1.93185165e-01, 3.00000000e+00],\n",
       "       [1.64000000e+02, 1.71000000e+02, 1.98971334e-01, 5.00000000e+00],\n",
       "       [6.60000000e+01, 8.40000000e+01, 2.00000000e-01, 2.00000000e+00],\n",
       "       [2.30000000e+01, 2.60000000e+01, 2.00000000e-01, 2.00000000e+00],\n",
       "       [5.30000000e+01, 8.90000000e+01, 2.00000000e-01, 2.00000000e+00],\n",
       "       [7.40000000e+01, 9.70000000e+01, 2.00000000e-01, 2.00000000e+00],\n",
       "       [1.72000000e+02, 1.81000000e+02, 2.10968232e-01, 8.00000000e+00],\n",
       "       [6.90000000e+01, 1.60000000e+02, 2.18890106e-01, 3.00000000e+00],\n",
       "       [1.73000000e+02, 1.78000000e+02, 2.19557050e-01, 6.00000000e+00],\n",
       "       [7.80000000e+01, 1.69000000e+02, 2.22474487e-01, 3.00000000e+00],\n",
       "       [1.10000000e+02, 1.47000000e+02, 2.23606798e-01, 2.00000000e+00],\n",
       "       [1.20000000e+02, 1.43000000e+02, 2.23606798e-01, 2.00000000e+00],\n",
       "       [4.30000000e+01, 1.83000000e+02, 2.44090964e-01, 3.00000000e+00],\n",
       "       [1.36000000e+02, 1.48000000e+02, 2.44948974e-01, 2.00000000e+00],\n",
       "       [5.40000000e+01, 5.80000000e+01, 2.44948974e-01, 2.00000000e+00],\n",
       "       [1.40000000e+02, 1.44000000e+02, 2.44948974e-01, 2.00000000e+00],\n",
       "       [1.03000000e+02, 1.61000000e+02, 2.44948974e-01, 3.00000000e+00],\n",
       "       [1.41000000e+02, 1.45000000e+02, 2.44948974e-01, 2.00000000e+00],\n",
       "       [1.76000000e+02, 1.77000000e+02, 2.46912362e-01, 5.00000000e+00],\n",
       "       [4.20000000e+01, 1.62000000e+02, 2.58113883e-01, 3.00000000e+00],\n",
       "       [1.58000000e+02, 1.80000000e+02, 2.58680193e-01, 5.00000000e+00],\n",
       "       [7.00000000e+01, 1.67000000e+02, 2.61803399e-01, 3.00000000e+00],\n",
       "       [6.70000000e+01, 1.65000000e+02, 2.63895843e-01, 3.00000000e+00],\n",
       "       [1.56000000e+02, 1.86000000e+02, 2.64171522e-01, 1.00000000e+01],\n",
       "       [6.80000000e+01, 8.70000000e+01, 2.64575131e-01, 2.00000000e+00],\n",
       "       [1.13000000e+02, 1.50000000e+02, 2.64575131e-01, 3.00000000e+00],\n",
       "       [5.00000000e+01, 5.20000000e+01, 2.64575131e-01, 2.00000000e+00],\n",
       "       [5.10000000e+01, 5.60000000e+01, 2.64575131e-01, 2.00000000e+00],\n",
       "       [1.07000000e+02, 1.30000000e+02, 2.64575131e-01, 2.00000000e+00],\n",
       "       [1.05000000e+02, 1.22000000e+02, 2.64575131e-01, 2.00000000e+00],\n",
       "       [2.00000000e+01, 3.10000000e+01, 2.82842712e-01, 2.00000000e+00],\n",
       "       [1.55000000e+02, 1.79000000e+02, 2.99436791e-01, 5.00000000e+00],\n",
       "       [1.10000000e+01, 2.40000000e+01, 3.00000000e-01, 2.00000000e+00],\n",
       "       [1.88000000e+02, 2.00000000e+02, 3.02209166e-01, 1.10000000e+01],\n",
       "       [1.30000000e+01, 1.99000000e+02, 3.02528967e-01, 4.00000000e+00],\n",
       "       [7.30000000e+01, 1.89000000e+02, 3.03635044e-01, 4.00000000e+00],\n",
       "       [1.91000000e+02, 1.95000000e+02, 3.06803265e-01, 4.00000000e+00],\n",
       "       [8.60000000e+01, 2.06000000e+02, 3.07252596e-01, 3.00000000e+00],\n",
       "       [1.04000000e+02, 1.54000000e+02, 3.08113883e-01, 3.00000000e+00],\n",
       "       [1.46000000e+02, 1.74000000e+02, 3.16123654e-01, 3.00000000e+00],\n",
       "       [5.50000000e+01, 9.00000000e+01, 3.16227766e-01, 2.00000000e+00],\n",
       "       [1.49000000e+02, 2.01000000e+02, 3.19875202e-01, 4.00000000e+00],\n",
       "       [1.21000000e+02, 2.05000000e+02, 3.21372670e-01, 4.00000000e+00],\n",
       "       [1.70000000e+02, 1.94000000e+02, 3.25417144e-01, 4.00000000e+00],\n",
       "       [8.30000000e+01, 1.33000000e+02, 3.31662479e-01, 2.00000000e+00],\n",
       "       [5.00000000e+00, 1.80000000e+01, 3.31662479e-01, 2.00000000e+00],\n",
       "       [1.84000000e+02, 1.87000000e+02, 3.38826088e-01, 5.00000000e+00],\n",
       "       [1.15000000e+02, 1.93000000e+02, 3.43649167e-01, 3.00000000e+00],\n",
       "       [3.20000000e+01, 3.30000000e+01, 3.46410162e-01, 2.00000000e+00],\n",
       "       [1.25000000e+02, 1.29000000e+02, 3.46410162e-01, 2.00000000e+00],\n",
       "       [1.24000000e+02, 2.16000000e+02, 3.47598376e-01, 5.00000000e+00],\n",
       "       [3.60000000e+01, 2.10000000e+02, 3.70245917e-01, 3.00000000e+00],\n",
       "       [6.10000000e+01, 1.98000000e+02, 3.72863514e-01, 6.00000000e+00],\n",
       "       [3.50000000e+01, 2.03000000e+02, 3.78316113e-01, 1.10000000e+01],\n",
       "       [7.60000000e+01, 2.17000000e+02, 3.83692631e-01, 4.00000000e+00],\n",
       "       [7.10000000e+01, 1.85000000e+02, 3.83776187e-01, 3.00000000e+00],\n",
       "       [9.80000000e+01, 1.59000000e+02, 3.87298335e-01, 3.00000000e+00],\n",
       "       [1.75000000e+02, 1.97000000e+02, 3.91079392e-01, 4.00000000e+00],\n",
       "       [7.20000000e+01, 2.24000000e+02, 3.92409598e-01, 3.00000000e+00],\n",
       "       [1.60000000e+01, 2.11000000e+02, 3.97231468e-01, 6.00000000e+00],\n",
       "       [1.11000000e+02, 1.96000000e+02, 4.10951413e-01, 4.00000000e+00],\n",
       "       [2.02000000e+02, 2.32000000e+02, 4.11551824e-01, 9.00000000e+00],\n",
       "       [1.17000000e+02, 1.31000000e+02, 4.12310563e-01, 2.00000000e+00],\n",
       "       [6.00000000e+00, 2.13000000e+02, 4.12947522e-01, 1.20000000e+01],\n",
       "       [8.50000000e+01, 2.07000000e+02, 4.16211654e-01, 3.00000000e+00],\n",
       "       [7.70000000e+01, 2.34000000e+02, 4.17858502e-01, 5.00000000e+00],\n",
       "       [1.92000000e+02, 2.33000000e+02, 4.24859090e-01, 1.40000000e+01],\n",
       "       [2.19000000e+02, 2.38000000e+02, 4.28466073e-01, 6.00000000e+00],\n",
       "       [1.82000000e+02, 2.20000000e+02, 4.37885262e-01, 4.00000000e+00],\n",
       "       [6.40000000e+01, 7.90000000e+01, 4.47213595e-01, 2.00000000e+00],\n",
       "       [1.02000000e+02, 2.29000000e+02, 4.53456788e-01, 3.00000000e+00],\n",
       "       [2.12000000e+02, 2.43000000e+02, 4.59587533e-01, 1.40000000e+01],\n",
       "       [2.18000000e+02, 2.40000000e+02, 4.62587845e-01, 7.00000000e+00],\n",
       "       [2.25000000e+02, 2.39000000e+02, 4.63899890e-01, 8.00000000e+00],\n",
       "       [1.90000000e+02, 2.37000000e+02, 4.73325708e-01, 6.00000000e+00],\n",
       "       [2.31000000e+02, 2.46000000e+02, 4.79362323e-01, 1.70000000e+01],\n",
       "       [1.18000000e+02, 2.09000000e+02, 4.80016560e-01, 3.00000000e+00],\n",
       "       [4.40000000e+01, 2.53000000e+02, 4.90701246e-01, 9.00000000e+00],\n",
       "       [2.23000000e+02, 2.45000000e+02, 4.95121073e-01, 9.00000000e+00],\n",
       "       [2.08000000e+02, 2.50000000e+02, 4.96264997e-01, 5.00000000e+00],\n",
       "       [1.14000000e+02, 2.22000000e+02, 5.07329273e-01, 5.00000000e+00],\n",
       "       [1.50000000e+01, 2.28000000e+02, 5.08149490e-01, 3.00000000e+00],\n",
       "       [2.15000000e+02, 2.35000000e+02, 5.11495126e-01, 7.00000000e+00],\n",
       "       [6.00000000e+01, 2.36000000e+02, 5.13307651e-01, 4.00000000e+00],\n",
       "       [5.90000000e+01, 2.26000000e+02, 5.18204344e-01, 6.00000000e+00],\n",
       "       [2.41000000e+02, 2.48000000e+02, 5.25474630e-01, 1.30000000e+01],\n",
       "       [2.55000000e+02, 2.57000000e+02, 5.40203168e-01, 2.60000000e+01],\n",
       "       [2.14000000e+02, 2.51000000e+02, 5.43172921e-01, 1.80000000e+01],\n",
       "       [1.40000000e+01, 2.61000000e+02, 5.48532860e-01, 4.00000000e+00],\n",
       "       [2.21000000e+02, 2.47000000e+02, 5.49450670e-01, 1.00000000e+01],\n",
       "       [2.49000000e+02, 2.64000000e+02, 5.70834015e-01, 8.00000000e+00],\n",
       "       [2.44000000e+02, 2.62000000e+02, 5.94899385e-01, 1.00000000e+01],\n",
       "       [1.00000000e+02, 2.30000000e+02, 6.02494379e-01, 6.00000000e+00],\n",
       "       [2.52000000e+02, 2.54000000e+02, 6.03519420e-01, 1.30000000e+01],\n",
       "       [2.27000000e+02, 2.72000000e+02, 6.06291352e-01, 9.00000000e+00],\n",
       "       [1.19000000e+02, 2.04000000e+02, 6.22811631e-01, 3.00000000e+00],\n",
       "       [2.60000000e+02, 2.69000000e+02, 6.41198366e-01, 1.50000000e+01],\n",
       "       [2.73000000e+02, 2.74000000e+02, 6.74792578e-01, 2.20000000e+01],\n",
       "       [2.65000000e+02, 2.70000000e+02, 6.77553240e-01, 2.10000000e+01],\n",
       "       [1.35000000e+02, 2.59000000e+02, 7.06547529e-01, 6.00000000e+00],\n",
       "       [2.58000000e+02, 2.71000000e+02, 7.14843442e-01, 1.90000000e+01],\n",
       "       [2.20000000e+01, 2.67000000e+02, 7.17135674e-01, 1.90000000e+01],\n",
       "       [2.66000000e+02, 2.81000000e+02, 7.54099122e-01, 4.50000000e+01],\n",
       "       [1.08000000e+02, 1.34000000e+02, 7.54983444e-01, 2.00000000e+00],\n",
       "       [6.20000000e+01, 2.78000000e+02, 7.83078008e-01, 2.20000000e+01],\n",
       "       [2.75000000e+02, 2.76000000e+02, 8.93789321e-01, 1.80000000e+01],\n",
       "       [1.09000000e+02, 2.42000000e+02, 8.96485216e-01, 3.00000000e+00],\n",
       "       [2.56000000e+02, 2.79000000e+02, 9.03309021e-01, 9.00000000e+00],\n",
       "       [2.80000000e+02, 2.85000000e+02, 9.17272544e-01, 3.70000000e+01],\n",
       "       [2.77000000e+02, 2.83000000e+02, 9.68739482e-01, 2.40000000e+01],\n",
       "       [1.06000000e+02, 2.84000000e+02, 1.05978781e+00, 2.30000000e+01],\n",
       "       [2.68000000e+02, 2.82000000e+02, 1.06920844e+00, 4.90000000e+01],\n",
       "       [2.86000000e+02, 2.87000000e+02, 1.09005269e+00, 1.20000000e+01],\n",
       "       [2.88000000e+02, 2.90000000e+02, 1.18677850e+00, 6.00000000e+01],\n",
       "       [4.10000000e+01, 2.91000000e+02, 1.31418787e+00, 5.00000000e+01],\n",
       "       [2.89000000e+02, 2.92000000e+02, 1.38099374e+00, 3.60000000e+01],\n",
       "       [2.63000000e+02, 2.93000000e+02, 1.78556648e+00, 6.40000000e+01],\n",
       "       [2.95000000e+02, 2.96000000e+02, 1.96361409e+00, 1.00000000e+02],\n",
       "       [2.94000000e+02, 2.97000000e+02, 4.06268269e+00, 1.50000000e+02]])"
      ]
     },
     "execution_count": 6,
     "metadata": {},
     "output_type": "execute_result"
    }
   ],
   "source": [
    "Z"
   ]
  },
  {
   "cell_type": "code",
   "execution_count": 6,
   "metadata": {
    "id": "nEr0yqxMck0p"
   },
   "outputs": [
    {
     "data": {
      "image/png": "[encoded data removed]",
      "text/plain": [
       "<Figure size 1800x720 with 1 Axes>"
      ]
     },
     "metadata": {
      "needs_background": "light"
     },
     "output_type": "display_data"
    }
   ],
   "source": [
    "#Calculate full dendrogram\n",
    "import matplotlib.pyplot as plt\n",
    "\n",
    "plt.figure(figsize=(25, 10))\n",
    "plt.title('Hierarchical Clustering Dendrogram')\n",
    "plt.xlabel('sample index')\n",
    "plt.ylabel('distance')\n",
    "dendrogram(\n",
    "    Z,\n",
    "    leaf_rotation=90.,  #Rotates the x axis labels\n",
    "    leaf_font_size=8.,  #Font size for the x axis labels\n",
    ")\n",
    "plt.show()"
   ]
  },
  {
   "cell_type": "markdown",
   "metadata": {
    "id": "mfzPoRnE2SH6"
   },
   "source": [
    "Now we are going to see the concept of Agglomerative (Bottom-Up) Clustering with a business use case."
   ]
  },
  {
   "cell_type": "markdown",
   "metadata": {
    "id": "bkWrWGps2dqM"
   },
   "source": [
    "### <b> Problem Statement: </b>\n",
    "An ecommerce company has prepared a rough dataset containing shopping details of their customers, which includes CustomerID, Genre, Age, Annual Income (k$), Spending Score (1-100). The company is unable to target a specific set of customers with a particular set of SKUs.\n",
    " \n",
    "### <b> Objective:</b>\n",
    "\n",
    " Segment customers into different groups based on their shopping trends."
   ]
  },
  {
   "cell_type": "markdown",
   "metadata": {
    "id": "akkrEKfSzH9m"
   },
   "source": [
    "### **Dataset**\n",
    "\n",
    "Before reading the data from a .csv file, you need to download \"housing_data.csv\" dataset from the course resource and upload it into the lab.\n",
    "We must use the Up arrow icon, which is shown in the left side under View icon. Click on the Up arrow icon and upload the file\n",
    "wherever it is downloaded into your system.\n"
   ]
  },
  {
   "cell_type": "code",
   "execution_count": 7,
   "metadata": {
    "id": "HVLDwO7c2dDX"
   },
   "outputs": [],
   "source": [
    "import matplotlib.pyplot as plt\n",
    "import pandas as pd\n",
    "%matplotlib inline\n",
    "import numpy as np"
   ]
  },
  {
   "cell_type": "code",
   "execution_count": 8,
   "metadata": {
    "id": "Ry7u3oVP3J-p"
   },
   "outputs": [],
   "source": [
    "customer_data = pd.read_csv('shopping_data.csv')"
   ]
  },
  {
   "cell_type": "markdown",
   "metadata": {
    "id": "oeR6Tt9SZGjj"
   },
   "source": [
    "In the above code, pd.read_csv function is used to read the \"shopping_data.csv\" file, and customer_data is a variable that will store the data read by the .csv file."
   ]
  },
  {
   "cell_type": "code",
   "execution_count": 9,
   "metadata": {
    "id": "7DsbF1H_3g0x"
   },
   "outputs": [
    {
     "data": {
      "text/plain": [
       "(200, 5)"
      ]
     },
     "execution_count": 9,
     "metadata": {},
     "output_type": "execute_result"
    }
   ],
   "source": [
    "customer_data.shape\n"
   ]
  },
  {
   "cell_type": "markdown",
   "metadata": {
    "id": "_iVH0XW6ZGjk"
   },
   "source": [
    "Here, shape is an attribute that returns a tuple representing the dimensionality of the customer_data. It is used to define the number of rows and columns in customer_data. "
   ]
  },
  {
   "cell_type": "code",
   "execution_count": 10,
   "metadata": {
    "id": "wLXaJQRt3jgw"
   },
   "outputs": [
    {
     "data": {
      "text/html": [
       "<div>\n",
       "<style scoped>\n",
       "    .dataframe tbody tr th:only-of-type {\n",
       "        vertical-align: middle;\n",
       "    }\n",
       "\n",
       "    .dataframe tbody tr th {\n",
       "        vertical-align: top;\n",
       "    }\n",
       "\n",
       "    .dataframe thead th {\n",
       "        text-align: right;\n",
       "    }\n",
       "</style>\n",
       "<table border=\"1\" class=\"dataframe\">\n",
       "  <thead>\n",
       "    <tr style=\"text-align: right;\">\n",
       "      <th></th>\n",
       "      <th>CustomerID</th>\n",
       "      <th>Genre</th>\n",
       "      <th>Age</th>\n",
       "      <th>Annual Income (k$)</th>\n",
       "      <th>Spending Score (1-100)</th>\n",
       "    </tr>\n",
       "  </thead>\n",
       "  <tbody>\n",
       "    <tr>\n",
       "      <th>0</th>\n",
       "      <td>1</td>\n",
       "      <td>Male</td>\n",
       "      <td>19</td>\n",
       "      <td>15</td>\n",
       "      <td>39</td>\n",
       "    </tr>\n",
       "    <tr>\n",
       "      <th>1</th>\n",
       "      <td>2</td>\n",
       "      <td>Male</td>\n",
       "      <td>21</td>\n",
       "      <td>15</td>\n",
       "      <td>81</td>\n",
       "    </tr>\n",
       "    <tr>\n",
       "      <th>2</th>\n",
       "      <td>3</td>\n",
       "      <td>Female</td>\n",
       "      <td>20</td>\n",
       "      <td>16</td>\n",
       "      <td>6</td>\n",
       "    </tr>\n",
       "    <tr>\n",
       "      <th>3</th>\n",
       "      <td>4</td>\n",
       "      <td>Female</td>\n",
       "      <td>23</td>\n",
       "      <td>16</td>\n",
       "      <td>77</td>\n",
       "    </tr>\n",
       "    <tr>\n",
       "      <th>4</th>\n",
       "      <td>5</td>\n",
       "      <td>Female</td>\n",
       "      <td>31</td>\n",
       "      <td>17</td>\n",
       "      <td>40</td>\n",
       "    </tr>\n",
       "  </tbody>\n",
       "</table>\n",
       "</div>"
      ],
      "text/plain": [
       "   CustomerID   Genre  Age  Annual Income (k$)  Spending Score (1-100)\n",
       "0           1    Male   19                  15                      39\n",
       "1           2    Male   21                  15                      81\n",
       "2           3  Female   20                  16                       6\n",
       "3           4  Female   23                  16                      77\n",
       "4           5  Female   31                  17                      40"
      ]
     },
     "execution_count": 10,
     "metadata": {},
     "output_type": "execute_result"
    }
   ],
   "source": [
    "customer_data.head()\n"
   ]
  },
  {
   "cell_type": "markdown",
   "metadata": {
    "id": "73fHlQwZ3x2x"
   },
   "source": [
    "Our dataset has five columns: CustomerID, Genre, Age, Annual Income, and Spending Score. To view the results in two-dimensional feature space, we will retain only two of these five columns. We can remove CustomerID column, Genre, and Age column. We will retain the Annual Income (in thousands of dollars) and Spending Score (1-100) columns. The Spending Score column signifies how often a person spends money in a mall on a scale of 1 to 100 with 100 being the highest spender. Execute the following script to filter the first three columns from our dataset:"
   ]
  },
  {
   "cell_type": "code",
   "execution_count": 11,
   "metadata": {
    "id": "90Xh7rKd3mA6"
   },
   "outputs": [],
   "source": [
    "data = customer_data.iloc[:, 3:5].values"
   ]
  },
  {
   "cell_type": "code",
   "execution_count": 13,
   "metadata": {},
   "outputs": [
    {
     "data": {
      "text/plain": [
       "array([[ 15,  39],\n",
       "       [ 15,  81],\n",
       "       [ 16,   6],\n",
       "       [ 16,  77],\n",
       "       [ 17,  40],\n",
       "       [ 17,  76],\n",
       "       [ 18,   6],\n",
       "       [ 18,  94],\n",
       "       [ 19,   3],\n",
       "       [ 19,  72],\n",
       "       [ 19,  14],\n",
       "       [ 19,  99],\n",
       "       [ 20,  15],\n",
       "       [ 20,  77],\n",
       "       [ 20,  13],\n",
       "       [ 20,  79],\n",
       "       [ 21,  35],\n",
       "       [ 21,  66],\n",
       "       [ 23,  29],\n",
       "       [ 23,  98],\n",
       "       [ 24,  35],\n",
       "       [ 24,  73],\n",
       "       [ 25,   5],\n",
       "       [ 25,  73],\n",
       "       [ 28,  14],\n",
       "       [ 28,  82],\n",
       "       [ 28,  32],\n",
       "       [ 28,  61],\n",
       "       [ 29,  31],\n",
       "       [ 29,  87],\n",
       "       [ 30,   4],\n",
       "       [ 30,  73],\n",
       "       [ 33,   4],\n",
       "       [ 33,  92],\n",
       "       [ 33,  14],\n",
       "       [ 33,  81],\n",
       "       [ 34,  17],\n",
       "       [ 34,  73],\n",
       "       [ 37,  26],\n",
       "       [ 37,  75],\n",
       "       [ 38,  35],\n",
       "       [ 38,  92],\n",
       "       [ 39,  36],\n",
       "       [ 39,  61],\n",
       "       [ 39,  28],\n",
       "       [ 39,  65],\n",
       "       [ 40,  55],\n",
       "       [ 40,  47],\n",
       "       [ 40,  42],\n",
       "       [ 40,  42],\n",
       "       [ 42,  52],\n",
       "       [ 42,  60],\n",
       "       [ 43,  54],\n",
       "       [ 43,  60],\n",
       "       [ 43,  45],\n",
       "       [ 43,  41],\n",
       "       [ 44,  50],\n",
       "       [ 44,  46],\n",
       "       [ 46,  51],\n",
       "       [ 46,  46],\n",
       "       [ 46,  56],\n",
       "       [ 46,  55],\n",
       "       [ 47,  52],\n",
       "       [ 47,  59],\n",
       "       [ 48,  51],\n",
       "       [ 48,  59],\n",
       "       [ 48,  50],\n",
       "       [ 48,  48],\n",
       "       [ 48,  59],\n",
       "       [ 48,  47],\n",
       "       [ 49,  55],\n",
       "       [ 49,  42],\n",
       "       [ 50,  49],\n",
       "       [ 50,  56],\n",
       "       [ 54,  47],\n",
       "       [ 54,  54],\n",
       "       [ 54,  53],\n",
       "       [ 54,  48],\n",
       "       [ 54,  52],\n",
       "       [ 54,  42],\n",
       "       [ 54,  51],\n",
       "       [ 54,  55],\n",
       "       [ 54,  41],\n",
       "       [ 54,  44],\n",
       "       [ 54,  57],\n",
       "       [ 54,  46],\n",
       "       [ 57,  58],\n",
       "       [ 57,  55],\n",
       "       [ 58,  60],\n",
       "       [ 58,  46],\n",
       "       [ 59,  55],\n",
       "       [ 59,  41],\n",
       "       [ 60,  49],\n",
       "       [ 60,  40],\n",
       "       [ 60,  42],\n",
       "       [ 60,  52],\n",
       "       [ 60,  47],\n",
       "       [ 60,  50],\n",
       "       [ 61,  42],\n",
       "       [ 61,  49],\n",
       "       [ 62,  41],\n",
       "       [ 62,  48],\n",
       "       [ 62,  59],\n",
       "       [ 62,  55],\n",
       "       [ 62,  56],\n",
       "       [ 62,  42],\n",
       "       [ 63,  50],\n",
       "       [ 63,  46],\n",
       "       [ 63,  43],\n",
       "       [ 63,  48],\n",
       "       [ 63,  52],\n",
       "       [ 63,  54],\n",
       "       [ 64,  42],\n",
       "       [ 64,  46],\n",
       "       [ 65,  48],\n",
       "       [ 65,  50],\n",
       "       [ 65,  43],\n",
       "       [ 65,  59],\n",
       "       [ 67,  43],\n",
       "       [ 67,  57],\n",
       "       [ 67,  56],\n",
       "       [ 67,  40],\n",
       "       [ 69,  58],\n",
       "       [ 69,  91],\n",
       "       [ 70,  29],\n",
       "       [ 70,  77],\n",
       "       [ 71,  35],\n",
       "       [ 71,  95],\n",
       "       [ 71,  11],\n",
       "       [ 71,  75],\n",
       "       [ 71,   9],\n",
       "       [ 71,  75],\n",
       "       [ 72,  34],\n",
       "       [ 72,  71],\n",
       "       [ 73,   5],\n",
       "       [ 73,  88],\n",
       "       [ 73,   7],\n",
       "       [ 73,  73],\n",
       "       [ 74,  10],\n",
       "       [ 74,  72],\n",
       "       [ 75,   5],\n",
       "       [ 75,  93],\n",
       "       [ 76,  40],\n",
       "       [ 76,  87],\n",
       "       [ 77,  12],\n",
       "       [ 77,  97],\n",
       "       [ 77,  36],\n",
       "       [ 77,  74],\n",
       "       [ 78,  22],\n",
       "       [ 78,  90],\n",
       "       [ 78,  17],\n",
       "       [ 78,  88],\n",
       "       [ 78,  20],\n",
       "       [ 78,  76],\n",
       "       [ 78,  16],\n",
       "       [ 78,  89],\n",
       "       [ 78,   1],\n",
       "       [ 78,  78],\n",
       "       [ 78,   1],\n",
       "       [ 78,  73],\n",
       "       [ 79,  35],\n",
       "       [ 79,  83],\n",
       "       [ 81,   5],\n",
       "       [ 81,  93],\n",
       "       [ 85,  26],\n",
       "       [ 85,  75],\n",
       "       [ 86,  20],\n",
       "       [ 86,  95],\n",
       "       [ 87,  27],\n",
       "       [ 87,  63],\n",
       "       [ 87,  13],\n",
       "       [ 87,  75],\n",
       "       [ 87,  10],\n",
       "       [ 87,  92],\n",
       "       [ 88,  13],\n",
       "       [ 88,  86],\n",
       "       [ 88,  15],\n",
       "       [ 88,  69],\n",
       "       [ 93,  14],\n",
       "       [ 93,  90],\n",
       "       [ 97,  32],\n",
       "       [ 97,  86],\n",
       "       [ 98,  15],\n",
       "       [ 98,  88],\n",
       "       [ 99,  39],\n",
       "       [ 99,  97],\n",
       "       [101,  24],\n",
       "       [101,  68],\n",
       "       [103,  17],\n",
       "       [103,  85],\n",
       "       [103,  23],\n",
       "       [103,  69],\n",
       "       [113,   8],\n",
       "       [113,  91],\n",
       "       [120,  16],\n",
       "       [120,  79],\n",
       "       [126,  28],\n",
       "       [126,  74],\n",
       "       [137,  18],\n",
       "       [137,  83]], dtype=int64)"
      ]
     },
     "execution_count": 13,
     "metadata": {},
     "output_type": "execute_result"
    }
   ],
   "source": [
    "data "
   ]
  },
  {
   "cell_type": "markdown",
   "metadata": {
    "id": "8Ew7qiwI33Vb"
   },
   "source": [
    "Next, we need to know the clusters that we want our data to be split to. We will again use the scipy library to create the dendrograms for our dataset. Execute the following script to do so:"
   ]
  },
  {
   "cell_type": "code",
   "execution_count": 14,
   "metadata": {
    "id": "e5K9mwat3om5"
   },
   "outputs": [
    {
     "data": {
      "image/png": "[encoded data removed]",
      "text/plain": [
       "<Figure size 1800x720 with 1 Axes>"
      ]
     },
     "metadata": {
      "needs_background": "light"
     },
     "output_type": "display_data"
    }
   ],
   "source": [
    "import scipy.cluster.hierarchy as shc\n",
    "\n",
    "plt.figure(figsize=(25, 10))\n",
    "plt.title(\"Customer Dendograms\")\n",
    "dend = shc.dendrogram(shc.linkage(data, method='ward'))"
   ]
  },
  {
   "cell_type": "markdown",
   "metadata": {
    "id": "LoSDdw9R69jk"
   },
   "source": [
    "If we draw a horizontal line that passes through longest distance without a horizontal line, we get 5 clusters."
   ]
  },
  {
   "cell_type": "markdown",
   "metadata": {
    "id": "FoMmAWFV4iWp"
   },
   "source": [
    "We create an instance of Agglomerative Clustering using the euclidean distance as the measure of distance between points and ward linkage to calculate the proximity of clusters."
   ]
  },
  {
   "cell_type": "code",
   "execution_count": 18,
   "metadata": {
    "id": "d_33vFwJ4nC8"
   },
   "outputs": [
    {
     "data": {
      "text/plain": [
       "array([4, 3, 4, 3, 4, 3, 4, 3, 4, 3, 4, 3, 4, 3, 4, 3, 4, 3, 4, 3, 4, 3,\n",
       "       4, 3, 4, 3, 4, 3, 4, 3, 4, 3, 4, 3, 4, 3, 4, 3, 4, 3, 4, 3, 4, 1,\n",
       "       4, 1, 1, 1, 1, 1, 1, 1, 1, 1, 1, 1, 1, 1, 1, 1, 1, 1, 1, 1, 1, 1,\n",
       "       1, 1, 1, 1, 1, 1, 1, 1, 1, 1, 1, 1, 1, 1, 1, 1, 1, 1, 1, 1, 1, 1,\n",
       "       1, 1, 1, 1, 1, 1, 1, 1, 1, 1, 1, 1, 1, 1, 1, 1, 1, 1, 1, 1, 1, 1,\n",
       "       1, 1, 1, 1, 1, 1, 1, 1, 1, 1, 1, 1, 1, 2, 1, 2, 1, 2, 0, 2, 0, 2,\n",
       "       1, 2, 0, 2, 0, 2, 0, 2, 0, 2, 1, 2, 0, 2, 1, 2, 0, 2, 0, 2, 0, 2,\n",
       "       0, 2, 0, 2, 0, 2, 1, 2, 0, 2, 0, 2, 0, 2, 0, 2, 0, 2, 0, 2, 0, 2,\n",
       "       0, 2, 0, 2, 0, 2, 0, 2, 0, 2, 0, 2, 0, 2, 0, 2, 0, 2, 0, 2, 0, 2,\n",
       "       0, 2], dtype=int64)"
      ]
     },
     "execution_count": 18,
     "metadata": {},
     "output_type": "execute_result"
    }
   ],
   "source": [
    "from sklearn.cluster import AgglomerativeClustering\n",
    "\n",
    "cluster = AgglomerativeClustering(n_clusters=5, affinity='euclidean', linkage='ward')\n",
    "cluster.fit_predict(data)"
   ]
  },
  {
   "cell_type": "markdown",
   "metadata": {
    "id": "pCxtwDEp4q5h"
   },
   "source": [
    "You can see the cluster labels from all of your data points. Since we had five clusters, we have five labels in the output i.e. 0 to 4."
   ]
  },
  {
   "cell_type": "markdown",
   "metadata": {
    "id": "dyn2JWLp4uSW"
   },
   "source": [
    "As a final step, let's plot the clusters to see how actually our data has been clustered:"
   ]
  },
  {
   "cell_type": "code",
   "execution_count": 16,
   "metadata": {
    "id": "R2Kjc8PH4nZw"
   },
   "outputs": [
    {
     "data": {
      "text/plain": [
       "<matplotlib.collections.PathCollection at 0x13cf15ad910>"
      ]
     },
     "execution_count": 16,
     "metadata": {},
     "output_type": "execute_result"
    },
    {
     "data": {
      "image/png": "[encoded data removed]",
      "text/plain": [
       "<Figure size 720x504 with 1 Axes>"
      ]
     },
     "metadata": {
      "needs_background": "light"
     },
     "output_type": "display_data"
    }
   ],
   "source": [
    "plt.figure(figsize=(10, 7))\n",
    "plt.scatter(data[:,0], data[:,1], c=cluster.labels_, cmap='rainbow')"
   ]
  },
  {
   "cell_type": "markdown",
   "metadata": {
    "id": "Ougs4hrsUSzv"
   },
   "source": [
    "### **Conclusion**\n",
    "When the shopping data is grouped using the agglomerative clustering technique, we can observe that there are five groups for consumers whose labels range from 0 to 4."
   ]
  },
  {
   "cell_type": "markdown",
   "metadata": {
    "id": "9BVrKLeickQN"
   },
   "source": [
    "**Note: In this lesson, we saw the use of the unservised learning methods, but in the next lesson we will be working on \"Time-Series Modelling\".**"
   ]
  }
 ],
 "metadata": {
  "colab": {
   "collapsed_sections": [],
   "name": "5.03_Hierarchical_Clustering.ipynb",
   "private_outputs": true,
   "provenance": []
  },
  "kernelspec": {
   "display_name": "Python 3",
   "language": "python",
   "name": "python3"
  },
  "language_info": {
   "codemirror_mode": {
    "name": "ipython",
    "version": 3
   },
   "file_extension": ".py",
   "mimetype": "text/x-python",
   "name": "python",
   "nbconvert_exporter": "python",
   "pygments_lexer": "ipython3",
   "version": "3.8.5"
  }
 },
 "nbformat": 4,
 "nbformat_minor": 1
}
